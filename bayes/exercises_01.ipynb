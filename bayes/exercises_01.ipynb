{
 "cells": [
  {
   "cell_type": "code",
   "execution_count": 2,
   "metadata": {},
   "outputs": [],
   "source": [
    "def prob(A):\n",
    "    return A.mean()\n",
    "\n",
    "def conditional(proposition, given):\n",
    "    return prob(proposition[given])"
   ]
  },
  {
   "cell_type": "code",
   "execution_count": 3,
   "metadata": {},
   "outputs": [],
   "source": [
    "import pandas as pd"
   ]
  },
  {
   "cell_type": "code",
   "execution_count": 4,
   "metadata": {},
   "outputs": [
    {
     "data": {
      "text/html": [
       "<div>\n",
       "<style scoped>\n",
       "    .dataframe tbody tr th:only-of-type {\n",
       "        vertical-align: middle;\n",
       "    }\n",
       "\n",
       "    .dataframe tbody tr th {\n",
       "        vertical-align: top;\n",
       "    }\n",
       "\n",
       "    .dataframe thead th {\n",
       "        text-align: right;\n",
       "    }\n",
       "</style>\n",
       "<table border=\"1\" class=\"dataframe\">\n",
       "  <thead>\n",
       "    <tr style=\"text-align: right;\">\n",
       "      <th></th>\n",
       "      <th>caseid</th>\n",
       "      <th>year</th>\n",
       "      <th>age</th>\n",
       "      <th>sex</th>\n",
       "      <th>polviews</th>\n",
       "      <th>partyid</th>\n",
       "      <th>indus10</th>\n",
       "    </tr>\n",
       "  </thead>\n",
       "  <tbody>\n",
       "    <tr>\n",
       "      <th>0</th>\n",
       "      <td>1</td>\n",
       "      <td>1974</td>\n",
       "      <td>21.0</td>\n",
       "      <td>1</td>\n",
       "      <td>4.0</td>\n",
       "      <td>2.0</td>\n",
       "      <td>4970.0</td>\n",
       "    </tr>\n",
       "    <tr>\n",
       "      <th>1</th>\n",
       "      <td>2</td>\n",
       "      <td>1974</td>\n",
       "      <td>41.0</td>\n",
       "      <td>1</td>\n",
       "      <td>5.0</td>\n",
       "      <td>0.0</td>\n",
       "      <td>9160.0</td>\n",
       "    </tr>\n",
       "    <tr>\n",
       "      <th>2</th>\n",
       "      <td>5</td>\n",
       "      <td>1974</td>\n",
       "      <td>58.0</td>\n",
       "      <td>2</td>\n",
       "      <td>6.0</td>\n",
       "      <td>1.0</td>\n",
       "      <td>2670.0</td>\n",
       "    </tr>\n",
       "    <tr>\n",
       "      <th>3</th>\n",
       "      <td>6</td>\n",
       "      <td>1974</td>\n",
       "      <td>30.0</td>\n",
       "      <td>1</td>\n",
       "      <td>5.0</td>\n",
       "      <td>4.0</td>\n",
       "      <td>6870.0</td>\n",
       "    </tr>\n",
       "    <tr>\n",
       "      <th>4</th>\n",
       "      <td>7</td>\n",
       "      <td>1974</td>\n",
       "      <td>48.0</td>\n",
       "      <td>1</td>\n",
       "      <td>5.0</td>\n",
       "      <td>4.0</td>\n",
       "      <td>7860.0</td>\n",
       "    </tr>\n",
       "  </tbody>\n",
       "</table>\n",
       "</div>"
      ],
      "text/plain": [
       "   caseid  year   age  sex  polviews  partyid  indus10\n",
       "0       1  1974  21.0    1       4.0      2.0   4970.0\n",
       "1       2  1974  41.0    1       5.0      0.0   9160.0\n",
       "2       5  1974  58.0    2       6.0      1.0   2670.0\n",
       "3       6  1974  30.0    1       5.0      4.0   6870.0\n",
       "4       7  1974  48.0    1       5.0      4.0   7860.0"
      ]
     },
     "execution_count": 4,
     "metadata": {},
     "output_type": "execute_result"
    }
   ],
   "source": [
    "gss = pd.read_csv('./gss_bayes.csv')\n",
    "gss.head()"
   ]
  },
  {
   "cell_type": "code",
   "execution_count": 5,
   "metadata": {},
   "outputs": [],
   "source": [
    "banker = gss.indus10 == 6870\n",
    "female = gss.sex == 2\n",
    "liberal = gss.polviews <= 3\n",
    "democrat = gss.partyid <= 1\n"
   ]
  },
  {
   "cell_type": "markdown",
   "metadata": {},
   "source": [
    "Use conditional to compute the following probabilities:\n",
    "\n",
    "    What is the probability that a respondent is liberal, given that they are a Democrat?\n",
    "\n",
    "    What is the probability that a respondent is a Democrat, given that they are liberal?\n"
   ]
  },
  {
   "cell_type": "code",
   "execution_count": 7,
   "metadata": {},
   "outputs": [
    {
     "name": "stdout",
     "output_type": "stream",
     "text": [
      "probability respondent is liberal given they are democrat 0.3891320002215698\n",
      "probability respondent is democrat given they are liberal 0.5206403320240125\n"
     ]
    }
   ],
   "source": [
    "print(f'probability respondent is liberal given they are democrat {conditional(liberal, given=democrat)}')\n",
    "print(f'probability respondent is democrat given they are liberal {conditional(democrat, given=liberal)}')"
   ]
  },
  {
   "cell_type": "markdown",
   "metadata": {},
   "source": [
    "\n",
    "\n",
    "    Linda is 31 years old, single, outspoken, and very bright. She majored in philosophy. As a student, she was deeply concerned with issues of discrimination and social justice, and also participated in anti-nuclear demonstrations. Which is more probable?\n",
    "\n",
    "        Linda is a banker.\n",
    "\n",
    "        Linda is a banker and considers herself a liberal Democrat.\n",
    "\n"
   ]
  },
  {
   "cell_type": "code",
   "execution_count": 8,
   "metadata": {},
   "outputs": [
    {
     "name": "stdout",
     "output_type": "stream",
     "text": [
      "The probability that Linda is a banker, given that she is female 0.02116102749801969\n",
      "The probability that Linda is a banker and a liberal Democrat, given that she is female 0.0023009316887329786\n"
     ]
    }
   ],
   "source": [
    "print(f'The probability that Linda is a banker, given that she is female {conditional(banker, given=female)}')\n",
    "print(f'The probability that Linda is a banker and a liberal Democrat, given that she is female {conditional(banker & liberal & democrat, given=female)}')\n"
   ]
  },
  {
   "cell_type": "markdown",
   "metadata": {},
   "source": [
    "Use prob and conditional to compute the following probabilities.\n",
    "\n",
    "    What is the probability that a randomly chosen respondent is a young liberal?\n",
    "\n",
    "    What is the probability that a young person is liberal?\n",
    "\n",
    "    What fraction of respondents are old conservatives?\n",
    "\n",
    "    What fraction of conservatives are old?\n"
   ]
  },
  {
   "cell_type": "code",
   "execution_count": 13,
   "metadata": {},
   "outputs": [],
   "source": [
    "young = gss.age < 30\n",
    "old = gss.age >= 65\n",
    "conservative = gss.polviews >= 5"
   ]
  },
  {
   "cell_type": "code",
   "execution_count": 10,
   "metadata": {},
   "outputs": [
    {
     "data": {
      "text/plain": [
       "np.float64(0.3419354838709677)"
      ]
     },
     "execution_count": 10,
     "metadata": {},
     "output_type": "execute_result"
    }
   ],
   "source": [
    "prob(conservative)"
   ]
  },
  {
   "cell_type": "code",
   "execution_count": 14,
   "metadata": {},
   "outputs": [
    {
     "name": "stdout",
     "output_type": "stream",
     "text": [
      "Young and liberal 0.06579427875836884\n",
      "Liberal given young 0.338517745302714\n",
      "Old and conservative 0.06701156421180766\n",
      "Old given conservative 0.19597721609113564\n"
     ]
    }
   ],
   "source": [
    "print('Young and liberal', prob(young & liberal))\n",
    "print('Liberal given young', conditional(liberal, given=young))\n",
    "print('Old and conservative', prob(old & conservative))\n",
    "print('Old given conservative', conditional(old, given=conservative))"
   ]
  },
  {
   "cell_type": "code",
   "execution_count": null,
   "metadata": {},
   "outputs": [],
   "source": []
  }
 ],
 "metadata": {
  "kernelspec": {
   "display_name": ".venv",
   "language": "python",
   "name": "python3"
  },
  "language_info": {
   "codemirror_mode": {
    "name": "ipython",
    "version": 3
   },
   "file_extension": ".py",
   "mimetype": "text/x-python",
   "name": "python",
   "nbconvert_exporter": "python",
   "pygments_lexer": "ipython3",
   "version": "3.10.12"
  }
 },
 "nbformat": 4,
 "nbformat_minor": 2
}
