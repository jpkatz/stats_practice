{
 "cells": [
  {
   "cell_type": "code",
   "execution_count": 1,
   "metadata": {},
   "outputs": [],
   "source": [
    "import numpy as np\n",
    "from empiricaldist import Pmf"
   ]
  },
  {
   "cell_type": "markdown",
   "metadata": {},
   "source": [
    "Exercise: Let’s use Bayes’s Rule to solve the Elvis problem from <<_Distributions>>:\n",
    "\n",
    "    Elvis Presley had a twin brother who died at birth. What is the probability that Elvis was an identical twin?\n",
    "\n",
    "In 1935, about 2/3 of twins were fraternal and 1/3 were identical. The question contains two pieces of information we can use to update this prior.\n",
    "\n",
    "    First, Elvis’s twin was also male, which is more likely if they were identical twins, with a likelihood ratio of 2.\n",
    "\n",
    "    Also, Elvis’s twin died at birth, which is more likely if they were identical twins, with a likelihood ratio of 1.25.\n",
    "\n",
    "If you are curious about where those numbers come from, I wrote https://www.allendowney.com/blog/2020/01/28/the-elvis-problem-revisited/"
   ]
  },
  {
   "cell_type": "markdown",
   "metadata": {},
   "source": [
    "Bayes Rule: odds(A|D) = odds(A) * P(D|A) / P(D|B)"
   ]
  },
  {
   "cell_type": "code",
   "execution_count": 3,
   "metadata": {},
   "outputs": [],
   "source": [
    "def odds(p):\n",
    "    return p / (1-p)\n",
    "\n",
    "def prob(o):\n",
    "    return o / (o+1)"
   ]
  },
  {
   "cell_type": "code",
   "execution_count": 5,
   "metadata": {},
   "outputs": [
    {
     "data": {
      "text/plain": [
       "0.5555555555555555"
      ]
     },
     "execution_count": 5,
     "metadata": {},
     "output_type": "execute_result"
    }
   ],
   "source": [
    "'''\n",
    "A = Elvis is identical twin\n",
    "D = Twin brother\n",
    "'''\n",
    "\n",
    "prior_odds = odds(1/3) # 1/3 of twins were identical\n",
    "# p_d_given_a = prob(2)\n",
    "# p_d_given_b = prob(1.25)\n",
    "\n",
    "# the problem statement gave likelihood ratios\n",
    "\n",
    "# posterior_odds = prior_odds * p_d_given_a / p_d_given_b\n",
    "\n",
    "likelihood_ratio_1 = 2\n",
    "likelihood_ratio_2 = 1.25\n",
    "posterior_odds = prior_odds * likelihood_ratio_1 * likelihood_ratio_2\n",
    "prob(posterior_odds)\n"
   ]
  },
  {
   "cell_type": "markdown",
   "metadata": {},
   "source": [
    "Exercise: The following is an interview question that appeared on glassdoor.com, attributed to Facebook:\n",
    "\n",
    "    You’re about to get on a plane to Seattle. You want to know if you should bring an umbrella. You call 3 random friends of yours who live there and ask each independently if it’s raining. Each of your friends has a 2/3 chance of telling you the truth and a 1/3 chance of messing with you by lying. All 3 friends tell you that “Yes” it is raining. What is the probability that it’s actually raining in Seattle?\n",
    "\n",
    "Use Bayes’s Rule to solve this problem. As a prior you can assume that it rains in Seattle about 10% of the time.\n",
    "\n",
    "This question causes some confusion about the differences between Bayesian and frequentist interpretations of probability; if you are curious about this point,"
   ]
  },
  {
   "cell_type": "code",
   "execution_count": null,
   "metadata": {},
   "outputs": [
    {
     "name": "stdout",
     "output_type": "stream",
     "text": [
      "0.4705882352941177\n"
     ]
    }
   ],
   "source": [
    "# Trying to find P(Rain|YYY)\n",
    "# P(Rain|YYY) = P(Rain) * P(YYY|Rain) / P(YYY)\n",
    "\n",
    "prior_odds = odds(0.1)\n",
    "\n",
    "# prob_yyy_rain = (2/3)**3\n",
    "# prob_yyy = (2/3)**3 + (1/3)**3\n",
    "# this is wrong -> each friend has a likelihood ratio of 2: (2/3) / (1/3) = 2. Therefore the likelihood each says the truth is 2**3\n",
    "# basically, probability of rain given truth = 2/3, probability of rain given lie = 1/3 -> (2/3) / (1/3). And then its for each friend\n",
    "likelihood_ratio = 2**3\n",
    "\n",
    "posterior_odds = prior_odds * likelihood_ratio\n",
    "print(prob(posterior_odds))"
   ]
  },
  {
   "cell_type": "markdown",
   "metadata": {},
   "source": [
    "Exercise: According to the CDC, people who smoke are about 25 times more likely to develop lung cancer than nonsmokers.\n",
    "\n",
    "Also according to the CDC, about 14% of adults in the U.S. are smokers. If you learn that someone has lung cancer, what is the probability they are a smoker?"
   ]
  },
  {
   "cell_type": "code",
   "execution_count": null,
   "metadata": {},
   "outputs": [
    {
     "data": {
      "text/plain": [
       "0.8027522935779816"
      ]
     },
     "execution_count": 8,
     "metadata": {},
     "output_type": "execute_result"
    }
   ],
   "source": [
    "prior_odds = odds(0.14)\n",
    "likelihood_ratio = 25 # probability cancer given smoke / probability cancer given non smoke -> seems reasonable\n",
    "posterior_odds = prior_odds * likelihood_ratio\n",
    "prob(posterior_odds)"
   ]
  }
 ],
 "metadata": {
  "kernelspec": {
   "display_name": "uv_test",
   "language": "python",
   "name": "uv_test"
  },
  "language_info": {
   "codemirror_mode": {
    "name": "ipython",
    "version": 3
   },
   "file_extension": ".py",
   "mimetype": "text/x-python",
   "name": "python",
   "nbconvert_exporter": "python",
   "pygments_lexer": "ipython3",
   "version": "3.10.12"
  }
 },
 "nbformat": 4,
 "nbformat_minor": 2
}
