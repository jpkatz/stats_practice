{
 "cells": [
  {
   "cell_type": "code",
   "execution_count": 46,
   "metadata": {},
   "outputs": [],
   "source": [
    "import numpy as np\n",
    "from empiricaldist import Pmf\n",
    "from scipy.stats import binom"
   ]
  },
  {
   "cell_type": "markdown",
   "metadata": {},
   "source": [
    "Exercise: Let’s use Bayes’s Rule to solve the Elvis problem from <<_Distributions>>:\n",
    "\n",
    "    Elvis Presley had a twin brother who died at birth. What is the probability that Elvis was an identical twin?\n",
    "\n",
    "In 1935, about 2/3 of twins were fraternal and 1/3 were identical. The question contains two pieces of information we can use to update this prior.\n",
    "\n",
    "    First, Elvis’s twin was also male, which is more likely if they were identical twins, with a likelihood ratio of 2.\n",
    "\n",
    "    Also, Elvis’s twin died at birth, which is more likely if they were identical twins, with a likelihood ratio of 1.25.\n",
    "\n",
    "If you are curious about where those numbers come from, I wrote https://www.allendowney.com/blog/2020/01/28/the-elvis-problem-revisited/"
   ]
  },
  {
   "cell_type": "markdown",
   "metadata": {},
   "source": [
    "Bayes Rule: odds(A|D) = odds(A) * P(D|A) / P(D|B)"
   ]
  },
  {
   "cell_type": "code",
   "execution_count": 3,
   "metadata": {},
   "outputs": [],
   "source": [
    "def odds(p):\n",
    "    return p / (1-p)\n",
    "\n",
    "def prob(o):\n",
    "    return o / (o+1)"
   ]
  },
  {
   "cell_type": "code",
   "execution_count": 5,
   "metadata": {},
   "outputs": [
    {
     "data": {
      "text/plain": [
       "0.5555555555555555"
      ]
     },
     "execution_count": 5,
     "metadata": {},
     "output_type": "execute_result"
    }
   ],
   "source": [
    "'''\n",
    "A = Elvis is identical twin\n",
    "D = Twin brother\n",
    "'''\n",
    "\n",
    "prior_odds = odds(1/3) # 1/3 of twins were identical\n",
    "# p_d_given_a = prob(2)\n",
    "# p_d_given_b = prob(1.25)\n",
    "\n",
    "# the problem statement gave likelihood ratios\n",
    "\n",
    "# posterior_odds = prior_odds * p_d_given_a / p_d_given_b\n",
    "\n",
    "likelihood_ratio_1 = 2\n",
    "likelihood_ratio_2 = 1.25\n",
    "posterior_odds = prior_odds * likelihood_ratio_1 * likelihood_ratio_2\n",
    "prob(posterior_odds)\n"
   ]
  },
  {
   "cell_type": "markdown",
   "metadata": {},
   "source": [
    "Exercise: The following is an interview question that appeared on glassdoor.com, attributed to Facebook:\n",
    "\n",
    "    You’re about to get on a plane to Seattle. You want to know if you should bring an umbrella. You call 3 random friends of yours who live there and ask each independently if it’s raining. Each of your friends has a 2/3 chance of telling you the truth and a 1/3 chance of messing with you by lying. All 3 friends tell you that “Yes” it is raining. What is the probability that it’s actually raining in Seattle?\n",
    "\n",
    "Use Bayes’s Rule to solve this problem. As a prior you can assume that it rains in Seattle about 10% of the time.\n",
    "\n",
    "This question causes some confusion about the differences between Bayesian and frequentist interpretations of probability; if you are curious about this point,"
   ]
  },
  {
   "cell_type": "code",
   "execution_count": null,
   "metadata": {},
   "outputs": [
    {
     "name": "stdout",
     "output_type": "stream",
     "text": [
      "0.4705882352941177\n"
     ]
    }
   ],
   "source": [
    "# Trying to find P(Rain|YYY)\n",
    "# P(Rain|YYY) = P(Rain) * P(YYY|Rain) / P(YYY)\n",
    "\n",
    "prior_odds = odds(0.1)\n",
    "\n",
    "# prob_yyy_rain = (2/3)**3\n",
    "# prob_yyy = (2/3)**3 + (1/3)**3\n",
    "# this is wrong -> each friend has a likelihood ratio of 2: (2/3) / (1/3) = 2. Therefore the likelihood each says the truth is 2**3\n",
    "# basically, probability of rain given truth = 2/3, probability of rain given lie = 1/3 -> (2/3) / (1/3). And then its for each friend\n",
    "likelihood_ratio = 2**3\n",
    "\n",
    "posterior_odds = prior_odds * likelihood_ratio\n",
    "print(prob(posterior_odds))"
   ]
  },
  {
   "cell_type": "markdown",
   "metadata": {},
   "source": [
    "Exercise: According to the CDC, people who smoke are about 25 times more likely to develop lung cancer than nonsmokers.\n",
    "\n",
    "Also according to the CDC, about 14% of adults in the U.S. are smokers. If you learn that someone has lung cancer, what is the probability they are a smoker?"
   ]
  },
  {
   "cell_type": "code",
   "execution_count": null,
   "metadata": {},
   "outputs": [
    {
     "data": {
      "text/plain": [
       "0.8027522935779816"
      ]
     },
     "execution_count": 8,
     "metadata": {},
     "output_type": "execute_result"
    }
   ],
   "source": [
    "prior_odds = odds(0.14)\n",
    "likelihood_ratio = 25 # probability cancer given smoke / probability cancer given non smoke -> seems reasonable\n",
    "posterior_odds = prior_odds * likelihood_ratio\n",
    "prob(posterior_odds)"
   ]
  },
  {
   "cell_type": "markdown",
   "metadata": {},
   "source": [
    "Exercise: In Dungeons & Dragons, the amount of damage a goblin can withstand is the sum of two six-sided dice. The amount of damage you inflict with a short sword is determined by rolling one six-sided die. A goblin is defeated if the total damage you inflict is greater than or equal to the amount it can withstand.\n",
    "\n",
    "Suppose you are fighting a goblin and you have already inflicted 3 points of damage. What is your probability of defeating the goblin with your next successful attack?\n",
    "\n",
    "Hint: You can use Pmf.sub_dist to subtract a constant amount, like 3, from a Pmf."
   ]
  },
  {
   "cell_type": "code",
   "execution_count": null,
   "metadata": {},
   "outputs": [],
   "source": [
    "die = Pmf(1/6, [1, 2, 3, 4, 5, 6])\n",
    "\n",
    "goblin = Pmf.add_dist(die, die)\n",
    "person = die.copy()\n"
   ]
  },
  {
   "cell_type": "code",
   "execution_count": 19,
   "metadata": {},
   "outputs": [
    {
     "data": {
      "text/plain": [
       "np.float64(0.5)"
      ]
     },
     "execution_count": 19,
     "metadata": {},
     "output_type": "execute_result"
    }
   ],
   "source": [
    "wounded_goblin = goblin.sub_dist(3) #basically shifting the distro by 3 -> 12 becomes 9, 2 becomes -1\n",
    "\n",
    "#not quite, since -1 and 0 mean the goblin is already dead, so can ignore\n",
    "posterior = Pmf.sub_dist(wounded_goblin, person)\n",
    "posterior[posterior.qs <=0].sum()"
   ]
  },
  {
   "cell_type": "code",
   "execution_count": 21,
   "metadata": {},
   "outputs": [
    {
     "data": {
      "text/html": [
       "<div>\n",
       "<style scoped>\n",
       "    .dataframe tbody tr th:only-of-type {\n",
       "        vertical-align: middle;\n",
       "    }\n",
       "\n",
       "    .dataframe tbody tr th {\n",
       "        vertical-align: top;\n",
       "    }\n",
       "\n",
       "    .dataframe thead th {\n",
       "        text-align: right;\n",
       "    }\n",
       "</style>\n",
       "<table border=\"1\" class=\"dataframe\">\n",
       "  <thead>\n",
       "    <tr style=\"text-align: right;\">\n",
       "      <th></th>\n",
       "      <th>probs</th>\n",
       "    </tr>\n",
       "  </thead>\n",
       "  <tbody>\n",
       "    <tr>\n",
       "      <th>-1</th>\n",
       "      <td>0.000000</td>\n",
       "    </tr>\n",
       "    <tr>\n",
       "      <th>0</th>\n",
       "      <td>0.000000</td>\n",
       "    </tr>\n",
       "    <tr>\n",
       "      <th>1</th>\n",
       "      <td>0.090909</td>\n",
       "    </tr>\n",
       "    <tr>\n",
       "      <th>2</th>\n",
       "      <td>0.121212</td>\n",
       "    </tr>\n",
       "    <tr>\n",
       "      <th>3</th>\n",
       "      <td>0.151515</td>\n",
       "    </tr>\n",
       "    <tr>\n",
       "      <th>4</th>\n",
       "      <td>0.181818</td>\n",
       "    </tr>\n",
       "    <tr>\n",
       "      <th>5</th>\n",
       "      <td>0.151515</td>\n",
       "    </tr>\n",
       "    <tr>\n",
       "      <th>6</th>\n",
       "      <td>0.121212</td>\n",
       "    </tr>\n",
       "    <tr>\n",
       "      <th>7</th>\n",
       "      <td>0.090909</td>\n",
       "    </tr>\n",
       "    <tr>\n",
       "      <th>8</th>\n",
       "      <td>0.060606</td>\n",
       "    </tr>\n",
       "    <tr>\n",
       "      <th>9</th>\n",
       "      <td>0.030303</td>\n",
       "    </tr>\n",
       "  </tbody>\n",
       "</table>\n",
       "</div>"
      ],
      "text/plain": [
       "-1    0.000000\n",
       " 0    0.000000\n",
       " 1    0.090909\n",
       " 2    0.121212\n",
       " 3    0.151515\n",
       " 4    0.181818\n",
       " 5    0.151515\n",
       " 6    0.121212\n",
       " 7    0.090909\n",
       " 8    0.060606\n",
       " 9    0.030303\n",
       "dtype: float64"
      ]
     },
     "execution_count": 21,
     "metadata": {},
     "output_type": "execute_result"
    }
   ],
   "source": [
    "wounded_goblin[[-1, 0]] = 0\n",
    "wounded_goblin.normalize()\n",
    "wounded_goblin"
   ]
  },
  {
   "cell_type": "code",
   "execution_count": 23,
   "metadata": {},
   "outputs": [
    {
     "name": "stdout",
     "output_type": "stream",
     "text": [
      "0.4545454545454545 0.4545454545454545\n"
     ]
    }
   ],
   "source": [
    "posterior = Pmf.sub_dist(wounded_goblin, person)\n",
    "print(posterior[posterior.qs <=0].sum(), posterior.prob_le(0))"
   ]
  },
  {
   "cell_type": "markdown",
   "metadata": {},
   "source": [
    "Exercise: Suppose I have a box with a 6-sided die, an 8-sided die, and a 12-sided die. I choose one of the dice at random, roll it twice, multiply the outcomes, and report that the product is 12. What is the probability that I chose the 8-sided die?\n",
    "\n",
    "Hint: Pmf provides a function called mul_dist that takes two Pmf objects and returns a Pmf that represents the distribution of the product."
   ]
  },
  {
   "cell_type": "code",
   "execution_count": 37,
   "metadata": {},
   "outputs": [],
   "source": [
    "prior = Pmf(1/3, [6, 8, 12])\n",
    "\n",
    "dice6 = Pmf.from_seq([i for i in range(1, 7)])\n",
    "dice8 = Pmf.from_seq([i for i in range(1, 9)])\n",
    "dice12 = Pmf.from_seq([i for i in range(1, 13)])\n",
    "\n",
    "dice66 = Pmf.mul_dist(dice6, dice6)\n",
    "dice88 = Pmf.mul_dist(dice8, dice8)\n",
    "dice1212 = Pmf.mul_dist(dice12, dice12)"
   ]
  },
  {
   "cell_type": "code",
   "execution_count": 40,
   "metadata": {},
   "outputs": [
    {
     "data": {
      "text/plain": [
       "np.float64(0.2903225806451613)"
      ]
     },
     "execution_count": 40,
     "metadata": {},
     "output_type": "execute_result"
    }
   ],
   "source": [
    "posterior = prior * [dice66[12], dice88[12], dice1212[12]]\n",
    "posterior.normalize()\n",
    "posterior[8]"
   ]
  },
  {
   "cell_type": "code",
   "execution_count": 41,
   "metadata": {},
   "outputs": [
    {
     "data": {
      "text/html": [
       "<div>\n",
       "<style scoped>\n",
       "    .dataframe tbody tr th:only-of-type {\n",
       "        vertical-align: middle;\n",
       "    }\n",
       "\n",
       "    .dataframe tbody tr th {\n",
       "        vertical-align: top;\n",
       "    }\n",
       "\n",
       "    .dataframe thead th {\n",
       "        text-align: right;\n",
       "    }\n",
       "</style>\n",
       "<table border=\"1\" class=\"dataframe\">\n",
       "  <thead>\n",
       "    <tr style=\"text-align: right;\">\n",
       "      <th></th>\n",
       "      <th>probs</th>\n",
       "    </tr>\n",
       "  </thead>\n",
       "  <tbody>\n",
       "    <tr>\n",
       "      <th>6</th>\n",
       "      <td>0.516129</td>\n",
       "    </tr>\n",
       "    <tr>\n",
       "      <th>8</th>\n",
       "      <td>0.290323</td>\n",
       "    </tr>\n",
       "    <tr>\n",
       "      <th>12</th>\n",
       "      <td>0.193548</td>\n",
       "    </tr>\n",
       "  </tbody>\n",
       "</table>\n",
       "</div>"
      ],
      "text/plain": [
       "6     0.516129\n",
       "8     0.290323\n",
       "12    0.193548\n",
       "dtype: float64"
      ]
     },
     "execution_count": 41,
     "metadata": {},
     "output_type": "execute_result"
    }
   ],
   "source": [
    "posterior"
   ]
  },
  {
   "cell_type": "markdown",
   "metadata": {},
   "source": [
    "Exercise: Betrayal at House on the Hill is a strategy game in which characters with different attributes explore a haunted house. Depending on their attributes, the characters roll different numbers of dice. For example, if attempting a task that depends on knowledge, Professor Longfellow rolls 5 dice, Madame Zostra rolls 4, and Ox Bellows rolls 3. Each die yields 0, 1, or 2 with equal probability.\n",
    "\n",
    "If a randomly chosen character attempts a task three times and rolls a total of 3 on the first attempt, 4 on the second, and 5 on the third, which character do you think it was?"
   ]
  },
  {
   "cell_type": "code",
   "execution_count": 44,
   "metadata": {},
   "outputs": [
    {
     "data": {
      "text/plain": [
       "[np.float64(0.004798274879055247),\n",
       " np.float64(0.00915247412224499),\n",
       " np.float64(0.006401463191586647)]"
      ]
     },
     "execution_count": 44,
     "metadata": {},
     "output_type": "execute_result"
    }
   ],
   "source": [
    "hypos = ['longfellow', 'zostra', 'ox']\n",
    "nr_dice = {'longfellow': 5, 'zostra': 4, 'ox': 3}\n",
    "sides = [0, 1, 2]\n",
    "\n",
    "prior = Pmf(1, hypos)\n",
    "likelihoods = []\n",
    "for person in hypos:\n",
    "    dice = Pmf.from_seq(sides)\n",
    "    pmf_person = dice.copy()\n",
    "    for i in range(nr_dice[person] - 1):\n",
    "        pmf_person = Pmf.add_dist(pmf_person, dice.copy())\n",
    "\n",
    "    likelihoods.append(pmf_person[3] * pmf_person[4] * pmf_person[5])\n",
    "likelihoods"
   ]
  },
  {
   "cell_type": "code",
   "execution_count": 45,
   "metadata": {},
   "outputs": [
    {
     "data": {
      "text/html": [
       "<div>\n",
       "<style scoped>\n",
       "    .dataframe tbody tr th:only-of-type {\n",
       "        vertical-align: middle;\n",
       "    }\n",
       "\n",
       "    .dataframe tbody tr th {\n",
       "        vertical-align: top;\n",
       "    }\n",
       "\n",
       "    .dataframe thead th {\n",
       "        text-align: right;\n",
       "    }\n",
       "</style>\n",
       "<table border=\"1\" class=\"dataframe\">\n",
       "  <thead>\n",
       "    <tr style=\"text-align: right;\">\n",
       "      <th></th>\n",
       "      <th>probs</th>\n",
       "    </tr>\n",
       "  </thead>\n",
       "  <tbody>\n",
       "    <tr>\n",
       "      <th>longfellow</th>\n",
       "      <td>0.235762</td>\n",
       "    </tr>\n",
       "    <tr>\n",
       "      <th>zostra</th>\n",
       "      <td>0.449704</td>\n",
       "    </tr>\n",
       "    <tr>\n",
       "      <th>ox</th>\n",
       "      <td>0.314534</td>\n",
       "    </tr>\n",
       "  </tbody>\n",
       "</table>\n",
       "</div>"
      ],
      "text/plain": [
       "longfellow    0.235762\n",
       "zostra        0.449704\n",
       "ox            0.314534\n",
       "dtype: float64"
      ]
     },
     "execution_count": 45,
     "metadata": {},
     "output_type": "execute_result"
    }
   ],
   "source": [
    "posterior = prior * likelihoods\n",
    "posterior.normalize()\n",
    "posterior"
   ]
  },
  {
   "cell_type": "markdown",
   "metadata": {},
   "source": [
    "Exercise: There are 538 members of the United States Congress. Suppose we audit their investment portfolios and find that 312 of them out-perform the market. Let’s assume that an honest member of Congress has only a 50% chance of out-performing the market, but a dishonest member who trades on inside information has a 90% chance. How many members of Congress are honest?"
   ]
  },
  {
   "cell_type": "code",
   "execution_count": 80,
   "metadata": {},
   "outputs": [],
   "source": [
    "#312 outperform\n",
    "# distribution of honest\n",
    "# distribution of dishonest\n",
    "import pandas as pd\n",
    "from utils import make_binomial\n",
    "\n",
    "n = 538\n",
    "ns = range(0, n+1)\n",
    "table =pd.DataFrame(index=ns, columns=ns, dtype=float)\n",
    "\n",
    "for n_honest in ns:\n",
    "    n_dishonest = n - n_honest\n",
    "\n",
    "    dist_honest = make_binomial(n_honest, 0.5)\n",
    "    dist_dishonest = make_binomial(n_dishonest, 0.9)\n",
    "    dist_total = Pmf.add_dist(dist_honest, dist_dishonest)    \n",
    "    table[n_honest] = dist_total"
   ]
  },
  {
   "cell_type": "code",
   "execution_count": 77,
   "metadata": {},
   "outputs": [
    {
     "data": {
      "text/plain": [
       "0      1.666278e-83\n",
       "1      4.036647e-83\n",
       "2      9.764057e-83\n",
       "3      2.358164e-82\n",
       "4      5.686556e-82\n",
       "           ...     \n",
       "534    5.631374e-05\n",
       "535    5.006628e-05\n",
       "536    4.447099e-05\n",
       "537    3.946482e-05\n",
       "538    3.499024e-05\n",
       "Name: 312, Length: 539, dtype: float64"
      ]
     },
     "execution_count": 77,
     "metadata": {},
     "output_type": "execute_result"
    }
   ],
   "source": [
    "table.loc[312]"
   ]
  },
  {
   "cell_type": "code",
   "execution_count": 78,
   "metadata": {},
   "outputs": [
    {
     "data": {
      "text/plain": [
       "539"
      ]
     },
     "execution_count": 78,
     "metadata": {},
     "output_type": "execute_result"
    }
   ],
   "source": [
    "hypos = np.arange(n+1)\n",
    "prior = Pmf(1, hypos)\n",
    "len(prior)"
   ]
  },
  {
   "cell_type": "code",
   "execution_count": 81,
   "metadata": {},
   "outputs": [
    {
     "data": {
      "text/plain": [
       "np.float64(431.4882114501996)"
      ]
     },
     "execution_count": 81,
     "metadata": {},
     "output_type": "execute_result"
    }
   ],
   "source": [
    "posterior = prior * table.loc[312]\n",
    "posterior.normalize()\n",
    "posterior.mean()"
   ]
  },
  {
   "cell_type": "code",
   "execution_count": 82,
   "metadata": {},
   "outputs": [
    {
     "data": {
      "text/plain": [
       "np.int64(430)"
      ]
     },
     "execution_count": 82,
     "metadata": {},
     "output_type": "execute_result"
    }
   ],
   "source": [
    "posterior.max_prob()"
   ]
  },
  {
   "cell_type": "code",
   "execution_count": 73,
   "metadata": {},
   "outputs": [
    {
     "data": {
      "text/plain": [
       "array([388., 477.])"
      ]
     },
     "execution_count": 73,
     "metadata": {},
     "output_type": "execute_result"
    }
   ],
   "source": [
    "posterior.credible_interval(0.9)"
   ]
  }
 ],
 "metadata": {
  "kernelspec": {
   "display_name": "uv_test",
   "language": "python",
   "name": "uv_test"
  },
  "language_info": {
   "codemirror_mode": {
    "name": "ipython",
    "version": 3
   },
   "file_extension": ".py",
   "mimetype": "text/x-python",
   "name": "python",
   "nbconvert_exporter": "python",
   "pygments_lexer": "ipython3",
   "version": "3.10.12"
  }
 },
 "nbformat": 4,
 "nbformat_minor": 2
}
