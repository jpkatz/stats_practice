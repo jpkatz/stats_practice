{
 "cells": [
  {
   "cell_type": "code",
   "execution_count": 2,
   "metadata": {},
   "outputs": [],
   "source": [
    "from empiricaldist import Cdf, Pmf\n",
    "import pandas as pd\n",
    "from utils import make_die\n",
    "import numpy as np"
   ]
  },
  {
   "cell_type": "markdown",
   "metadata": {},
   "source": [
    "In Dungeons & Dragons, each character has six attributes: strength, intelligence, wisdom, dexterity, constitution, and charisma.\n",
    "\n",
    "To generate a new character, players roll four 6-sided dice for each attribute and add up the best three. For example, if I roll for strength and get 1, 2, 3, 4 on the dice, my character’s strength would be the sum of 2, 3, and 4, which is 9."
   ]
  },
  {
   "cell_type": "markdown",
   "metadata": {},
   "source": [
    "When you generate a D&D character, instead of rolling dice, you can use the “standard array” of attributes, which is 15, 14, 13, 12, 10, and 8. Do you think you are better off using the standard array or (literally) rolling the dice?\n",
    "\n",
    "Compare the distribution of the values in the standard array to the distribution we computed for the best three out of four:\n",
    "\n",
    "    Which distribution has higher mean? Use the mean method.\n",
    "\n",
    "    Which distribution has higher standard deviation? Use the std method.\n",
    "\n",
    "    The lowest value in the standard array is 8. For each attribute, what is the probability of getting a value less than 8? If you roll the dice six times, what’s the probability that at least one of your attributes is less than 8?\n",
    "\n",
    "    The highest value in the standard array is 15. For each attribute, what is the probability of getting a value greater than 15? If you roll the dice six times, what’s the probability that at least one of your attributes is greater than 15?\n"
   ]
  },
  {
   "cell_type": "code",
   "execution_count": 3,
   "metadata": {},
   "outputs": [],
   "source": [
    "standard_array = [15, 14, 13, 12, 10, 8]\n"
   ]
  },
  {
   "cell_type": "code",
   "execution_count": 11,
   "metadata": {},
   "outputs": [],
   "source": [
    "samples = 10_000\n",
    "\n",
    "#simulate rolling 1 dice 4 times. Building distribution\n",
    "rolls = np.random.randint(1, 7, size=(samples, 4))\n",
    "\n",
    "#sort by each row\n",
    "rolls.sort(axis=1)\n",
    "\n",
    "summed_best3 = rolls[:, 1:].sum(axis=1)\n"
   ]
  },
  {
   "cell_type": "code",
   "execution_count": null,
   "metadata": {},
   "outputs": [],
   "source": [
    "pmf_best3 = Pmf.from_seq(summed_best3)\n",
    "cdf_best3 = pmf_best3.make_cdf() # used in solution, so far not in use."
   ]
  },
  {
   "cell_type": "code",
   "execution_count": 23,
   "metadata": {},
   "outputs": [
    {
     "name": "stdout",
     "output_type": "stream",
     "text": [
      "Mean of standard array 12.0, mean of rolling the dice 12.2185\n",
      "Std of standard array 2.3804761428476167, std of rolling the dice 2.8679884501162136\n"
     ]
    }
   ],
   "source": [
    "print(f'Mean of standard array {np.mean(standard_array)}, mean of rolling the dice {pmf_best3.mean()}')\n",
    "print(f'Std of standard array {np.std(standard_array)}, std of rolling the dice {pmf_best3.std()}')"
   ]
  },
  {
   "cell_type": "code",
   "execution_count": 28,
   "metadata": {},
   "outputs": [
    {
     "name": "stdout",
     "output_type": "stream",
     "text": [
      "Prob less than 8 0.061200000000000004\n",
      "Prob greater than 15 0.13019999999999987\n"
     ]
    }
   ],
   "source": [
    "#standard array min is 8, prob of finding less than 8\n",
    "print(f'Prob less than 8 {cdf_best3.prob_lt(8)}')\n",
    "\n",
    "#standard array max is 15, prob of finding greater than 8\n",
    "print(f'Prob greater than 15 {cdf_best3.prob_gt(15)}')\n"
   ]
  },
  {
   "cell_type": "code",
   "execution_count": 31,
   "metadata": {},
   "outputs": [
    {
     "data": {
      "text/plain": [
       "np.float64(0.3153974924052577)"
      ]
     },
     "execution_count": 31,
     "metadata": {},
     "output_type": "execute_result"
    }
   ],
   "source": [
    "#probability at least one attribute is less than 8\n",
    "\n",
    "#order wrong\n",
    "# cdf_best3**6 # roll 6 times\n",
    "# 1-cdf_best3**6 # take compliment\n",
    "\n",
    "\n",
    "# (1-cdf_best3)# looking for worst, therefore take compliment\n",
    "# (1-cdf_best3)**6 #6 samples , but this is for all rolls.\n",
    "# 1-(1-cdf_best3)**6 # need the compliment since interested in single roll\n",
    "\n",
    "1-(1-cdf_best3.lt_dist(8))**6"
   ]
  },
  {
   "cell_type": "code",
   "execution_count": 32,
   "metadata": {},
   "outputs": [
    {
     "data": {
      "text/plain": [
       "np.float64(0.566971560462616)"
      ]
     },
     "execution_count": 32,
     "metadata": {},
     "output_type": "execute_result"
    }
   ],
   "source": [
    "#probability at least one attribute is greater than 15\n",
    "1-(1-cdf_best3.gt_dist(15))**6"
   ]
  },
  {
   "cell_type": "markdown",
   "metadata": {},
   "source": [
    "Exercise: Suppose you are fighting three monsters:\n",
    "\n",
    "    One is armed with a short sword that causes one 6-sided die of damage,\n",
    "\n",
    "    One is armed with a battle axe that causes one 8-sided die of damage, and\n",
    "\n",
    "    One is armed with a bastard sword that causes one 10-sided die of damage.\n",
    "\n",
    "One of the monsters, chosen at random, attacks you and does 1 point of damage.\n",
    "\n",
    "Which monster do you think it was? Compute the posterior probability that each monster was the attacker."
   ]
  },
  {
   "cell_type": "code",
   "execution_count": null,
   "metadata": {},
   "outputs": [
    {
     "data": {
      "text/html": [
       "<div>\n",
       "<style scoped>\n",
       "    .dataframe tbody tr th:only-of-type {\n",
       "        vertical-align: middle;\n",
       "    }\n",
       "\n",
       "    .dataframe tbody tr th {\n",
       "        vertical-align: top;\n",
       "    }\n",
       "\n",
       "    .dataframe thead th {\n",
       "        text-align: right;\n",
       "    }\n",
       "</style>\n",
       "<table border=\"1\" class=\"dataframe\">\n",
       "  <thead>\n",
       "    <tr style=\"text-align: right;\">\n",
       "      <th></th>\n",
       "      <th>probs</th>\n",
       "    </tr>\n",
       "  </thead>\n",
       "  <tbody>\n",
       "    <tr>\n",
       "      <th>6</th>\n",
       "      <td>0.425532</td>\n",
       "    </tr>\n",
       "    <tr>\n",
       "      <th>8</th>\n",
       "      <td>0.319149</td>\n",
       "    </tr>\n",
       "    <tr>\n",
       "      <th>10</th>\n",
       "      <td>0.255319</td>\n",
       "    </tr>\n",
       "  </tbody>\n",
       "</table>\n",
       "</div>"
      ],
      "text/plain": [
       "6     0.425532\n",
       "8     0.319149\n",
       "10    0.255319\n",
       "dtype: float64"
      ]
     },
     "execution_count": 50,
     "metadata": {},
     "output_type": "execute_result"
    }
   ],
   "source": [
    "# we know 1 point of damage was done. Therefore which monster is likely?\n",
    "# hypos are the dice in play, only one monster\n",
    "# likelihood is the chance of rolling a 1 - which dice 6 is most likely. But the likelihood is 1/hypo\n",
    "hypos = [6, 8, 10]\n",
    "counts = [1, 1, 1]\n",
    "\n",
    "pmf_monster = Pmf(counts, hypos)\n",
    "likelihood = 1/pmf_monster.qs\n",
    "posterior = pmf_monster * likelihood\n",
    "posterior.normalize()\n",
    "posterior"
   ]
  },
  {
   "cell_type": "markdown",
   "metadata": {},
   "source": [
    "If the same monster attacks you again, what is the probability that you suffer 6 points of damage?"
   ]
  },
  {
   "cell_type": "code",
   "execution_count": 52,
   "metadata": {},
   "outputs": [
    {
     "data": {
      "text/plain": [
       "1     0.136348\n",
       "2     0.136348\n",
       "3     0.136348\n",
       "4     0.136348\n",
       "5     0.136348\n",
       "6     0.136348\n",
       "7     0.065426\n",
       "8     0.065426\n",
       "9     0.025532\n",
       "10    0.025532\n",
       "dtype: float64"
      ]
     },
     "execution_count": 52,
     "metadata": {},
     "output_type": "execute_result"
    }
   ],
   "source": [
    "#building the distribution of damage\n",
    "dice = [make_die(side) for side in hypos]\n",
    "df = pd.DataFrame(dice).fillna(0).transpose()\n",
    "\n",
    "# combining damage distribution with selection distribution\n",
    "df = df * posterior.ps # using posterior here because we already suffered one point of damage.\n",
    "df.sum(axis=1)"
   ]
  },
  {
   "cell_type": "markdown",
   "metadata": {},
   "source": [
    "Henri Poincaré was a French mathematician who taught at the Sorbonne around 1900. The following anecdote about him is probably fiction, but it makes an interesting probability problem.\n",
    "\n",
    "Supposedly Poincaré suspected that his local bakery was selling loaves of bread that were lighter than the advertised weight of 1 kg, so every day for a year he bought a loaf of bread, brought it home and weighed it. At the end of the year, he plotted the distribution of his measurements and showed that it fit a normal distribution with mean 950 g and standard deviation 50 g. He brought this evidence to the bread police, who gave the baker a warning.\n",
    "\n",
    "For the next year, Poincaré continued to weigh his bread every day. At the end of the year, he found that the average weight was 1000 g, just as it should be, but again he complained to the bread police, and this time they fined the baker.\n",
    "\n",
    "Why? Because the shape of the new distribution was asymmetric. Unlike the normal distribution, it was skewed to the right, which is consistent with the hypothesis that the baker was still making 950 g loaves, but deliberately giving Poincaré the heavier ones.\n",
    "\n",
    "To see whether this anecdote is plausible, let’s suppose that when the baker sees Poincaré coming, he hefts `n` loaves of bread and gives Poincaré the heaviest one. How many loaves would the baker have to heft to make the average of the maximum 1000 g?"
   ]
  },
  {
   "cell_type": "code",
   "execution_count": 53,
   "metadata": {},
   "outputs": [],
   "source": [
    "mean = 950\n",
    "std = 50\n",
    "\n",
    "np.random.seed(17)\n",
    "sample = np.random.normal(mean, std, size=365)"
   ]
  },
  {
   "cell_type": "code",
   "execution_count": null,
   "metadata": {},
   "outputs": [
    {
     "data": {
      "text/plain": [
       "np.float64(1028.2523518388548)"
      ]
     },
     "execution_count": 66,
     "metadata": {},
     "output_type": "execute_result"
    }
   ],
   "source": [
    "# lets assume a value for n, n=10\n",
    "\n",
    "n=10\n",
    "\n",
    "#cdf is useful here\n",
    "\n",
    "cdf = Cdf.from_seq(sample)\n",
    "cdf.max_dist(n) #this is saying, what is the probability of n loaves\n",
    "max_10_cdf = cdf.max_dist(n)\n",
    "max_10_pmf = max_10_cdf.make_pmf()\n",
    "max_10_pmf.mean() # sum of pi*qi - weighted average basically since sum of pi = 1\n",
    "\n",
    "'''\n",
    "CDF is useful here because we want to understand the probability of a particular loaf size given n trials\n",
    "By using CDF we can say 'we sampled n times from our normal distriution'\n",
    "\n",
    "When we say we took 10 loaves, \n",
    "we are doing 10 independent trials then asking the probability that a particular loaf was selected\n",
    "So if 400g loaf is not likely, 10 trials means it is rarely chosen.\n",
    "\n",
    "If we used PMF, we would have to wrangle with the PMF giving point probabilities \n",
    "and not the sum of probabilities up to a point like the CDF does.\n",
    "This means, when we try to get the max, we have to put more work in.\n",
    "The CDF is natural for this though, we give it a number and it tells us the probability of all values less than that.\n",
    "\n",
    "'''"
   ]
  },
  {
   "cell_type": "code",
   "execution_count": null,
   "metadata": {},
   "outputs": [
    {
     "name": "stdout",
     "output_type": "stream",
     "text": [
      "1 949.7832346541664\n",
      "2 978.4666876067706\n",
      "3 992.7589004318227\n",
      "4 1002.0372868686195\n",
      "5 1008.8226939493089\n",
      "6 1014.142390301017\n",
      "7 1018.507694202546\n",
      "8 1022.2066965318894\n",
      "9 1025.416321307913\n"
     ]
    }
   ],
   "source": [
    "# from above, we know 10 is enough\n",
    "\n",
    "for n in range(1, 10):\n",
    "    print(n, cdf.max_dist(n).mean())\n",
    "# 4 loaves would be enough."
   ]
  },
  {
   "cell_type": "code",
   "execution_count": null,
   "metadata": {},
   "outputs": [],
   "source": []
  }
 ],
 "metadata": {
  "kernelspec": {
   "display_name": ".venv",
   "language": "python",
   "name": "python3"
  },
  "language_info": {
   "codemirror_mode": {
    "name": "ipython",
    "version": 3
   },
   "file_extension": ".py",
   "mimetype": "text/x-python",
   "name": "python",
   "nbconvert_exporter": "python",
   "pygments_lexer": "ipython3",
   "version": "3.10.12"
  }
 },
 "nbformat": 4,
 "nbformat_minor": 2
}
